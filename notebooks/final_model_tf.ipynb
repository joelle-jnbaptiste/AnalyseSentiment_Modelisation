{
 "cells": [
  {
   "cell_type": "code",
   "execution_count": null,
   "metadata": {},
   "outputs": [
    {
     "name": "stderr",
     "output_type": "stream",
     "text": [
      "e:\\Formation - Copie\\Projets\\AnalyseSentiments\\.env\\lib\\site-packages\\tqdm\\auto.py:21: TqdmWarning: IProgress not found. Please update jupyter and ipywidgets. See https://ipywidgets.readthedocs.io/en/stable/user_install.html\n",
      "  from .autonotebook import tqdm as notebook_tqdm\n"
     ]
    }
   ],
   "source": [
    "# Data\n",
    "import pandas as pd\n",
    "import numpy as np\n",
    "\n",
    "# Sklearn\n",
    "from sklearn.metrics import (\n",
    "    accuracy_score,\n",
    "    f1_score,\n",
    "    roc_auc_score,\n",
    "    confusion_matrix,\n",
    "    roc_curve,\n",
    "    auc\n",
    ")\n",
    "from sklearn.model_selection import train_test_split\n",
    "\n",
    "# MLflow\n",
    "import mlflow\n",
    "import mlflow.sklearn\n",
    "import mlflow.transformers\n",
    "\n",
    "# Visualization\n",
    "import matplotlib.pyplot as plt\n",
    "import seaborn as sns\n",
    "\n",
    "# Torch\n",
    "import torch\n",
    "from torch.utils.data import Dataset, DataLoader\n",
    "from torch.optim import AdamW\n",
    "\n",
    "# TensorFlow\n",
    "import tensorflow as tf\n",
    "\n",
    "# Transformers\n",
    "from transformers import (\n",
    "    AutoTokenizer,\n",
    "    AutoModelForSequenceClassification,\n",
    "    TFDistilBertForSequenceClassification,\n",
    "    DistilBertTokenizerFast\n",
    ")\n",
    "\n",
    "# Hugging Face datasets\n",
    "from datasets import Dataset\n",
    "\n",
    "# Progress bar\n",
    "from tqdm import tqdm\n"
   ]
  },
  {
   "cell_type": "code",
   "execution_count": null,
   "metadata": {},
   "outputs": [],
   "source": [
    "columns_to_keep = [\"text_bert\", \"target\"]\n",
    "\n",
    "data = pd.read_csv(\n",
    "    \"data/tweets_cleaned.csv\",\n",
    "    usecols=columns_to_keep,\n",
    "    encoding=\"latin-1\"\n",
    ")\n"
   ]
  },
  {
   "cell_type": "code",
   "execution_count": null,
   "metadata": {},
   "outputs": [
    {
     "name": "stdout",
     "output_type": "stream",
     "text": [
      "[0 1]\n",
      "target        int32\n",
      "text_bert    object\n",
      "dtype: object\n"
     ]
    },
    {
     "data": {
      "text/plain": [
       "target\n",
       "0    50000\n",
       "1    50000\n",
       "Name: count, dtype: int64"
      ]
     },
     "execution_count": 3,
     "metadata": {},
     "output_type": "execute_result"
    }
   ],
   "source": [
    "# Preview the dataset\n",
    "print(data.head())\n",
    "print(data[\"target\"].unique())\n",
    "\n",
    "# Ensure target is integer type\n",
    "data[\"target\"] = data[\"target\"].astype(int)\n",
    "print(data.dtypes)\n",
    "\n",
    "# Define size of the new dataset\n",
    "subset_size = 100_000\n",
    "\n",
    "# Compute class ratios\n",
    "class_ratios = data[\"target\"].value_counts(normalize=True)\n",
    "\n",
    "# Determine number of samples to keep per class\n",
    "samples_per_class = (class_ratios * subset_size).astype(int)\n",
    "\n",
    "# Perform stratified sampling\n",
    "data = pd.concat([\n",
    "    data[data[\"target\"] == 0].sample(n=samples_per_class[0], random_state=42),\n",
    "    data[data[\"target\"] == 1].sample(n=samples_per_class[1], random_state=42)\n",
    "])\n",
    "\n",
    "# Check resulting distribution\n",
    "print(data[\"target\"].value_counts())\n"
   ]
  },
  {
   "cell_type": "code",
   "execution_count": null,
   "metadata": {},
   "outputs": [
    {
     "name": "stdout",
     "output_type": "stream",
     "text": [
      "Répartition des données après découpage :\n",
      "Train : 69999 (target\n",
      "1    0.500007\n",
      "0    0.499993\n",
      "Name: proportion, dtype: float64)\n",
      "Validation : 15000 (target\n",
      "1    0.5\n",
      "0    0.5\n",
      "Name: proportion, dtype: float64)\n",
      "Test : 15001 (target\n",
      "0    0.500033\n",
      "1    0.499967\n",
      "Name: proportion, dtype: float64)\n"
     ]
    }
   ],
   "source": [
    "# Define split proportions (70% Train, 15% Validation, 15% Test)\n",
    "train_size = 0.7\n",
    "val_size = 0.15\n",
    "test_size = 0.15\n",
    "\n",
    "# Separate features and target\n",
    "X = data[[\"text_bert\"]]\n",
    "y = data[\"target\"]\n",
    "\n",
    "# First split: Train (70%) and Temp (30%)\n",
    "X_train, X_temp, y_train, y_temp = train_test_split(\n",
    "    X, y, test_size=(1 - train_size), stratify=y, random_state=42\n",
    ")\n",
    "\n",
    "# Second split: Validation (15%) and Test (15%) from Temp (30%)\n",
    "X_val, X_test, y_val, y_test = train_test_split(\n",
    "    X_temp,\n",
    "    y_temp,\n",
    "    test_size=test_size / (test_size + val_size),\n",
    "    stratify=y_temp,\n",
    "    random_state=42\n",
    ")\n",
    "\n",
    "# Display data distribution\n",
    "print(\"Data distribution after split:\")\n",
    "print(f\"Train: {len(X_train)} ({y_train.value_counts(normalize=True)})\")\n",
    "print(f\"Validation: {len(X_val)} ({y_val.value_counts(normalize=True)})\")\n",
    "print(f\"Test: {len(X_test)} ({y_test.value_counts(normalize=True)})\")\n"
   ]
  },
  {
   "cell_type": "code",
   "execution_count": null,
   "metadata": {},
   "outputs": [
    {
     "name": "stderr",
     "output_type": "stream",
     "text": [
      "Some weights of DistilBertForSequenceClassification were not initialized from the model checkpoint at distilbert-base-uncased and are newly initialized: ['classifier.bias', 'classifier.weight', 'pre_classifier.bias', 'pre_classifier.weight']\n",
      "You should probably TRAIN this model on a down-stream task to be able to use it for predictions and inference.\n",
      "The new embeddings will be initialized from a multivariate normal distribution that has old embeddings' mean and covariance. As described in this article: https://nlp.stanford.edu/~johnhew/vocab-expansion.html. To disable this, use `mean_resizing=False`\n"
     ]
    }
   ],
   "source": [
    "# Configuration\n",
    "model_name = \"distilbert-base-uncased\"\n",
    "batch_size = 16\n",
    "epochs = 3\n",
    "learning_rate = 5e-5\n",
    "device = torch.device(\"cuda\" if torch.cuda.is_available() else \"cpu\")\n",
    "\n",
    "# Load tokenizer and model\n",
    "tokenizer = AutoTokenizer.from_pretrained(model_name)\n",
    "\n",
    "# Add <OOV> token if missing\n",
    "if \"<OOV>\" not in tokenizer.get_vocab():\n",
    "    tokenizer.add_tokens([\"<OOV>\"])\n",
    "\n",
    "# Load classification model and resize embeddings\n",
    "model = AutoModelForSequenceClassification.from_pretrained(\n",
    "    model_name, num_labels=2\n",
    ").to(device)\n",
    "model.resize_token_embeddings(len(tokenizer))\n",
    "\n",
    "# Custom Dataset class for tokenized input\n",
    "class TextDataset(Dataset):\n",
    "    def __init__(self, texts, labels):\n",
    "        self.encodings = tokenizer(\n",
    "            texts, truncation=True, padding=True, return_tensors=\"pt\"\n",
    "        )\n",
    "        self.labels = torch.tensor(labels)\n",
    "\n",
    "    def __len__(self):\n",
    "        return len(self.labels)\n",
    "\n",
    "    def __getitem__(self, idx):\n",
    "        item = {key: val[idx] for key, val in self.encodings.items()}\n",
    "        item[\"labels\"] = self.labels[idx]\n",
    "        return item\n",
    "\n",
    "# Create train, validation, and test datasets\n",
    "train_dataset = TextDataset(X_train[\"text_bert\"].tolist(), y_train.tolist())\n",
    "val_dataset = TextDataset(X_val[\"text_bert\"].tolist(), y_val.tolist())\n",
    "test_dataset = TextDataset(X_test[\"text_bert\"].tolist(), y_test.tolist())\n",
    "\n",
    "# Create DataLoaders\n",
    "train_loader = DataLoader(train_dataset, batch_size=batch_size, shuffle=True)\n",
    "val_loader = DataLoader(val_dataset, batch_size=batch_size)\n",
    "test_loader = DataLoader(test_dataset, batch_size=batch_size)\n"
   ]
  },
  {
   "cell_type": "code",
   "execution_count": null,
   "metadata": {},
   "outputs": [
    {
     "name": "stderr",
     "output_type": "stream",
     "text": [
      "Epoch 1/3: 100%|██████████| 4375/4375 [7:35:19<00:00,  6.24s/it]  \n"
     ]
    },
    {
     "name": "stdout",
     "output_type": "stream",
     "text": [
      "Époque 1 terminée - perte moyenne : 0.4156\n"
     ]
    },
    {
     "name": "stderr",
     "output_type": "stream",
     "text": [
      "Epoch 2/3: 100%|██████████| 4375/4375 [7:34:38<00:00,  6.24s/it]  \n"
     ]
    },
    {
     "name": "stdout",
     "output_type": "stream",
     "text": [
      "Époque 2 terminée - perte moyenne : 0.3088\n"
     ]
    },
    {
     "name": "stderr",
     "output_type": "stream",
     "text": [
      "Epoch 3/3: 100%|██████████| 4375/4375 [7:34:49<00:00,  6.24s/it]  \n"
     ]
    },
    {
     "name": "stdout",
     "output_type": "stream",
     "text": [
      "Époque 3 terminée - perte moyenne : 0.2030\n",
      " Accuracy: 0.8199, F1 Score: 0.8159, ROC AUC: 0.9028\n"
     ]
    },
    {
     "data": {
      "text/plain": [
       "('DISTILBERT_MODEL_FULL\\\\tokenizer_config.json',\n",
       " 'DISTILBERT_MODEL_FULL\\\\special_tokens_map.json',\n",
       " 'DISTILBERT_MODEL_FULL\\\\vocab.txt',\n",
       " 'DISTILBERT_MODEL_FULL\\\\added_tokens.json',\n",
       " 'DISTILBERT_MODEL_FULL\\\\tokenizer.json')"
      ]
     },
     "execution_count": 7,
     "metadata": {},
     "output_type": "execute_result"
    }
   ],
   "source": [
    "# Training and logging with MLflow\n",
    "mlflow.set_experiment(\"DISTILBERT_MODEL_FULLY_TRAINED\")\n",
    "\n",
    "with mlflow.start_run():\n",
    "    mlflow.log_params({\n",
    "        \"model\": model_name,\n",
    "        \"batch_size\": batch_size,\n",
    "        \"learning_rate\": learning_rate,\n",
    "        \"epochs\": epochs\n",
    "    })\n",
    "\n",
    "    optimizer = AdamW(model.parameters(), lr=learning_rate)\n",
    "    model.train()\n",
    "\n",
    "    for epoch in range(epochs):\n",
    "        total_loss = 0\n",
    "        for batch in tqdm(train_loader, desc=f\"Epoch {epoch + 1}/{epochs}\"):\n",
    "            batch = {key: val.to(device) for key, val in batch.items()}\n",
    "            outputs = model(**batch)\n",
    "            loss = outputs.loss\n",
    "            loss.backward()\n",
    "            optimizer.step()\n",
    "            optimizer.zero_grad()\n",
    "            total_loss += loss.item()\n",
    "\n",
    "        avg_loss = total_loss / len(train_loader)\n",
    "        print(f\"Epoch {epoch + 1} finished - Average loss: {avg_loss:.4f}\")\n",
    "\n",
    "    # Evaluation\n",
    "    model.eval()\n",
    "    all_preds, all_probs, all_labels = [], [], []\n",
    "\n",
    "    with torch.no_grad():\n",
    "        for batch in test_loader:\n",
    "            batch = {key: val.to(device) for key, val in batch.items()}\n",
    "            outputs = model(**batch)\n",
    "            logits = outputs.logits\n",
    "            probs = torch.softmax(logits, dim=1)[:, 1].cpu().numpy()\n",
    "            preds = torch.argmax(logits, dim=1).cpu().numpy()\n",
    "            labels = batch[\"labels\"].cpu().numpy()\n",
    "\n",
    "            all_preds.extend(preds)\n",
    "            all_probs.extend(probs)\n",
    "            all_labels.extend(labels)\n",
    "\n",
    "    # Compute all metrics\n",
    "    accuracy = accuracy_score(all_labels, all_preds)\n",
    "    f1 = f1_score(all_labels, all_preds)\n",
    "    precision = precision_score(all_labels, all_preds)\n",
    "    recall = recall_score(all_labels, all_preds)\n",
    "    roc_auc = roc_auc_score(all_labels, all_probs)\n",
    "    loss = log_loss(all_labels, all_probs)\n",
    "    baseline_acc = pd.Series(all_labels).value_counts(normalize=True).max()\n",
    "    confidence_std = np.std(all_probs)\n",
    "    cm = confusion_matrix(all_labels, all_preds)\n",
    "    false_positives = cm[0][1]\n",
    "    false_negatives = cm[1][0]\n",
    "\n",
    "    # Log metrics to MLflow\n",
    "    mlflow.log_metrics({\n",
    "        \"accuracy\": accuracy,\n",
    "        \"f1_score\": f1,\n",
    "        \"precision\": precision,\n",
    "        \"recall\": recall,\n",
    "        \"roc_auc\": roc_auc,\n",
    "        \"log_loss\": loss,\n",
    "        \"baseline_accuracy\": baseline_acc,\n",
    "        \"confidence_std\": confidence_std,\n",
    "        \"false_positives\": false_positives,\n",
    "        \"false_negatives\": false_negatives\n",
    "    })\n",
    "\n",
    "    print(f\"Accuracy: {accuracy:.4f} | F1: {f1:.4f} | ROC AUC: {roc_auc:.4f}\")\n",
    "\n",
    "    # Save model weights (PyTorch)\n",
    "    torch.save(model.state_dict(), \"DISTILBERT_MODEL_FULLY_TRAINED.pt\")\n",
    "    mlflow.log_artifact(\"DISTILBERT_MODEL_FULLY_TRAINED.pt\")\n",
    "\n",
    "    # Save full model (architecture + weights) and tokenizer\n",
    "    save_path = \"DISTILBERT_MODEL_FULL\"\n",
    "    model.save_pretrained(save_path)\n",
    "    tokenizer.save_pretrained(save_path)\n"
   ]
  },
  {
   "cell_type": "code",
   "execution_count": null,
   "metadata": {},
   "outputs": [
    {
     "name": "stderr",
     "output_type": "stream",
     "text": [
      "All PyTorch model weights were used when initializing TFDistilBertForSequenceClassification.\n",
      "\n",
      "All the weights of TFDistilBertForSequenceClassification were initialized from the PyTorch model.\n",
      "If your task is similar to the task the model of the checkpoint was trained on, you can already use TFDistilBertForSequenceClassification for predictions without further training.\n"
     ]
    },
    {
     "name": "stdout",
     "output_type": "stream",
     "text": [
      "WARNING:tensorflow:From e:\\Formation - Copie\\Projets\\AnalyseSentiments\\.env\\lib\\site-packages\\tensorflow\\python\\autograph\\pyct\\static_analysis\\liveness.py:83: Analyzer.lamba_check (from tensorflow.python.autograph.pyct.static_analysis.liveness) is deprecated and will be removed after 2023-09-23.\n",
      "Instructions for updating:\n",
      "Lambda fuctions will be no more assumed to be used in the statement where they are used, or at least in the same block. https://github.com/tensorflow/tensorflow/issues/56089\n",
      "WARNING:tensorflow:Skipping full serialization of Keras layer <keras.layers.regularization.dropout.Dropout object at 0x000001C99714DFA0>, because it is not built.\n",
      "WARNING:tensorflow:Skipping full serialization of Keras layer <keras.layers.regularization.dropout.Dropout object at 0x000001C992E8AC40>, because it is not built.\n",
      "WARNING:tensorflow:Skipping full serialization of Keras layer <keras.layers.regularization.dropout.Dropout object at 0x000001C992EB2B50>, because it is not built.\n",
      "WARNING:tensorflow:Skipping full serialization of Keras layer <keras.layers.regularization.dropout.Dropout object at 0x000001C992EABA60>, because it is not built.\n",
      "WARNING:tensorflow:Skipping full serialization of Keras layer <keras.layers.regularization.dropout.Dropout object at 0x000001C992EA3970>, because it is not built.\n",
      "WARNING:tensorflow:Skipping full serialization of Keras layer <keras.layers.regularization.dropout.Dropout object at 0x000001C98AE58880>, because it is not built.\n"
     ]
    },
    {
     "name": "stderr",
     "output_type": "stream",
     "text": [
      "WARNING:absl:Found untraced functions such as serving, embeddings_layer_call_fn, embeddings_layer_call_and_return_conditional_losses, transformer_layer_call_fn, transformer_layer_call_and_return_conditional_losses while saving (showing 5 of 165). These functions will not be directly callable after loading.\n"
     ]
    },
    {
     "name": "stdout",
     "output_type": "stream",
     "text": [
      "INFO:tensorflow:Assets written to: TMP_TF_SAVED_MODEL\\assets\n"
     ]
    },
    {
     "name": "stderr",
     "output_type": "stream",
     "text": [
      "INFO:tensorflow:Assets written to: TMP_TF_SAVED_MODEL\\assets\n"
     ]
    },
    {
     "data": {
      "text/plain": [
       "('DISTILBERT_MODEL_TFLITE\\\\tokenizer_config.json',\n",
       " 'DISTILBERT_MODEL_TFLITE\\\\special_tokens_map.json',\n",
       " 'DISTILBERT_MODEL_TFLITE\\\\vocab.txt',\n",
       " 'DISTILBERT_MODEL_TFLITE\\\\added_tokens.json',\n",
       " 'DISTILBERT_MODEL_TFLITE\\\\tokenizer.json')"
      ]
     },
     "execution_count": 8,
     "metadata": {},
     "output_type": "execute_result"
    }
   ],
   "source": [
    "import tensorflow as tf\n",
    "from transformers import TFDistilBertForSequenceClassification, DistilBertTokenizerFast\n",
    "\n",
    "# Load model from Hugging Face directory (converted from PyTorch to TF)\n",
    "save_path = \"DISTILBERT_MODEL_FULL\"\n",
    "model = TFDistilBertForSequenceClassification.from_pretrained(save_path, from_pt=True)\n",
    "\n",
    "# Wrapper to define explicit TFLite input signature\n",
    "class TFLiteWrapper(tf.Module):\n",
    "    def __init__(self, model):\n",
    "        super().__init__()\n",
    "        self.model = model\n",
    "\n",
    "    @tf.function(input_signature=[\n",
    "        tf.TensorSpec([None, 128], tf.int32, name=\"input_ids\"),\n",
    "        tf.TensorSpec([None, 128], tf.int32, name=\"attention_mask\")\n",
    "    ])\n",
    "    def __call__(self, input_ids, attention_mask):\n",
    "        outputs = self.model({'input_ids': input_ids, 'attention_mask': attention_mask})\n",
    "        return {\"logits\": outputs.logits}\n",
    "\n",
    "# Wrap and export the model to SavedModel format\n",
    "wrapped = TFLiteWrapper(model)\n",
    "saved_model_dir = \"TMP_TF_SAVED_MODEL\"\n",
    "tf.saved_model.save(\n",
    "    wrapped,\n",
    "    saved_model_dir,\n",
    "    signatures=wrapped.__call__.get_concrete_function()\n",
    ")\n",
    "\n",
    "# Convert the SavedModel to TFLite format with default optimizations\n",
    "converter = tf.lite.TFLiteConverter.from_saved_model(saved_model_dir)\n",
    "converter.optimizations = [tf.lite.Optimize.DEFAULT]\n",
    "tflite_model = converter.convert()\n",
    "\n",
    "# Save the TFLite model to file\n",
    "with open(\"distilbert_model.tflite\", \"wb\") as f:\n",
    "    f.write(tflite_model)\n",
    "\n",
    "# Save the tokenizer to use with TFLite inference\n",
    "tokenizer = DistilBertTokenizerFast.from_pretrained(save_path)\n",
    "tokenizer.save_pretrained(\"DISTILBERT_MODEL_TFLITE\")\n"
   ]
  },
  {
   "cell_type": "code",
   "execution_count": null,
   "metadata": {},
   "outputs": [],
   "source": [
    "def plot_confusion_matrix(y_test, y_pred, model_name):\n",
    "    \"\"\"\n",
    "    Display confusion matrix using Seaborn.\n",
    "    \"\"\"\n",
    "    cm = confusion_matrix(y_test, y_pred)\n",
    "    plt.figure(figsize=(6, 4))\n",
    "    sns.heatmap(\n",
    "        cm,\n",
    "        annot=True,\n",
    "        fmt='d',\n",
    "        cmap=\"Blues\",\n",
    "        xticklabels=[\"Negative\", \"Positive\"],\n",
    "        yticklabels=[\"Negative\", \"Positive\"]\n",
    "    )\n",
    "    plt.xlabel(\"Predicted Label\")\n",
    "    plt.ylabel(\"True Label\")\n",
    "    plt.title(f\"Confusion Matrix - {model_name}\")\n",
    "    plt.tight_layout()\n",
    "    plt.show()\n",
    "\n",
    "\n",
    "def plot_roc_curve(y_test, y_prob, model_name):\n",
    "    \"\"\"\n",
    "    Display ROC curve using Seaborn lineplot.\n",
    "    \"\"\"\n",
    "    fpr, tpr, _ = roc_curve(y_test, y_prob)\n",
    "    roc_auc = auc(fpr, tpr)\n",
    "\n",
    "    plt.figure(figsize=(6, 4))\n",
    "    sns.lineplot(x=fpr, y=tpr, label=f'ROC AUC = {roc_auc:.2f}')\n",
    "    plt.plot([0, 1], [0, 1], linestyle='--', color='gray')\n",
    "    plt.xlabel(\"False Positive Rate\")\n",
    "    plt.ylabel(\"True Positive Rate\")\n",
    "    plt.title(f\"ROC Curve - {model_name}\")\n",
    "    plt.legend()\n",
    "    plt.tight_layout()\n",
    "    plt.show()\n",
    "\n",
    "\n",
    "def plot_bar_chart(model_scores, title):\n",
    "    \"\"\"\n",
    "    Display bar chart comparing model metrics.\n",
    "    \"\"\"\n",
    "    labels, accuracy, f1, roc_auc = zip(*model_scores)\n",
    "\n",
    "    df = pd.DataFrame({\n",
    "        \"Model\": labels,\n",
    "        \"Accuracy\": accuracy,\n",
    "        \"F1 Score\": f1,\n",
    "        \"ROC AUC\": roc_auc\n",
    "    })\n",
    "\n",
    "    df_melt = df.melt(id_vars=\"Model\", var_name=\"Metric\", value_name=\"Score\")\n",
    "\n",
    "    plt.figure(figsize=(8, 5))\n",
    "    sns.barplot(data=df_melt, x=\"Model\", y=\"Score\", hue=\"Metric\")\n",
    "    plt.title(title)\n",
    "    plt.xticks(rotation=45)\n",
    "    plt.tight_layout()\n",
    "    plt.show()\n",
    "\n",
    "\n",
    "def plot_boxplot(roc_auc_scores, title):\n",
    "    \"\"\"\n",
    "    Display ROC AUC score distribution using a boxplot.\n",
    "    \"\"\"\n",
    "    plt.figure(figsize=(6, 4))\n",
    "    sns.boxplot(data=roc_auc_scores)\n",
    "    plt.title(title)\n",
    "    plt.ylabel(\"ROC AUC Score\")\n",
    "    plt.tight_layout()\n",
    "    plt.show()\n"
   ]
  },
  {
   "cell_type": "code",
   "execution_count": null,
   "metadata": {},
   "outputs": [
    {
     "data": {
      "image/png": "[encoded data removed]",
      "text/plain": [
       "<Figure size 600x400 with 2 Axes>"
      ]
     },
     "metadata": {},
     "output_type": "display_data"
    },
    {
     "data": {
      "image/png": "[encoded data removed]",
      "text/plain": [
       "<Figure size 600x400 with 1 Axes>"
      ]
     },
     "metadata": {},
     "output_type": "display_data"
    },
    {
     "data": {
      "image/png": "[encoded data removed]",
      "text/plain": [
       "<Figure size 600x400 with 1 Axes>"
      ]
     },
     "metadata": {},
     "output_type": "display_data"
    },
    {
     "data": {
      "image/png": "[encoded data removed]",
      "text/plain": [
       "<Figure size 800x500 with 1 Axes>"
      ]
     },
     "metadata": {},
     "output_type": "display_data"
    }
   ],
   "source": [
    "# Display visualizations using Seaborn only \n",
    "plot_confusion_matrix(all_labels, all_preds, model_name=\"ROBERTA_MODEL\")\n",
    "plot_roc_curve(all_labels, all_probs, model_name=\"ROBERTA_MODEL\")\n",
    "plot_boxplot([roc_auc], title=\"ROC-AUC Variability - ROBERTA_MODEL\")\n",
    "plot_bar_chart(\n",
    "    [(\"ROBERTA_MODEL Fine-Tuning\", accuracy, f1, roc_auc)],\n",
    "    title=\"ROBERTA_MODEL Performance Comparison\"\n",
    ")\n",
    "\n",
    "mlflow.end_run()"
   ]
  },
  {
   "cell_type": "code",
   "execution_count": null,
   "metadata": {},
   "outputs": [],
   "source": []
  }
 ],
 "metadata": {
  "kernelspec": {
   "display_name": ".env",
   "language": "python",
   "name": "python3"
  },
  "language_info": {
   "codemirror_mode": {
    "name": "ipython",
    "version": 3
   },
   "file_extension": ".py",
   "mimetype": "text/x-python",
   "name": "python",
   "nbconvert_exporter": "python",
   "pygments_lexer": "ipython3",
   "version": "3.9.13"
  }
 },
 "nbformat": 4,
 "nbformat_minor": 2
}
